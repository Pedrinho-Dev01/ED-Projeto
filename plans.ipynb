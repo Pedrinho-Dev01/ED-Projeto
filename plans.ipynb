{
 "cells": [
  {
   "cell_type": "markdown",
   "metadata": {},
   "source": [
    "# Using Data Mining to understand fake news and misinformation in election cycles\n",
    "\n",
    "Plans:\n",
    "\n",
    "1. Collect data out of the election cycle time period   (feb 3 - nov 3 2018) (\"US Election\")\n",
    "2. Collect data during election cycle                   (feb 3 - nov 3 2020) (\"US Election\")\n",
    "3. Process the data to extract the text and metadata\n",
    "4. Analyze the data to understand what is fake news and what isn't\n",
    "5. Quantify the number of fake news and non fake news"
   ]
  },
  {
   "cell_type": "code",
   "execution_count": 27,
   "metadata": {},
   "outputs": [],
   "source": [
    "import requests\n",
    "import os\n",
    "\n",
    "default = 'https://arquivo.pt/textsearch?q='\n",
    "election_time = '&from=20200203000000&to=20201103000000'\n",
    "non_election_time = '&from=20180203000000&to=20181103000000'\n",
    "pretty_print = \"&prettyPrint=true\"\n",
    "\n",
    "news_sites = ['&siteSearch=www.cbs.com', \n",
    "              '&siteSearch=www.nbc.com', \n",
    "              '&siteSearch=www.washingtonpost.com', \n",
    "              '&siteSearch=www.bbc.com',\n",
    "              '&siteSearch=www.forbes.com',\n",
    "              '&siteSearch=www.nytimes.com', \n",
    "              '&siteSearch=www.foxnews.com', \n",
    "              '&siteSearch=www.cnn.com']\n",
    "\n",
    "def request_api(query, is_election, site):\n",
    "\n",
    "    if query:\n",
    "\n",
    "        if is_election == 1:\n",
    "            response = requests.get(default + query + election_time + site +pretty_print)\n",
    "            return response\n",
    "        elif is_election == 0:\n",
    "            response = requests.get(default + query + non_election_time + site + pretty_print)\n",
    "            return response\n",
    "    else:\n",
    "        print(\"No query provided\")\n",
    "        return\n",
    "    \n",
    "input_query = input(\"Enter a query: \")\n",
    "is_election = int(input(\"Is it election time? (1 for yes, 0 for no): \"))\n",
    "\n",
    "# if output.txt exists, delete it\n",
    "if os.path.exists('output.txt'):\n",
    "    os.remove('output.txt')\n",
    "\n",
    "for site in news_sites:\n",
    "    response = request_api(input_query, is_election, site)\n",
    "    # dump the response to a file without overwriting\n",
    "    with open('output.txt', 'a') as f:\n",
    "        f.write(response.text)\n",
    "        f.write('\\n')\n"
   ]
  }
 ],
 "metadata": {
  "kernelspec": {
   "display_name": "ds",
   "language": "python",
   "name": "python3"
  },
  "language_info": {
   "codemirror_mode": {
    "name": "ipython",
    "version": 3
   },
   "file_extension": ".py",
   "mimetype": "text/x-python",
   "name": "python",
   "nbconvert_exporter": "python",
   "pygments_lexer": "ipython3",
   "version": "3.12.5"
  }
 },
 "nbformat": 4,
 "nbformat_minor": 2
}
